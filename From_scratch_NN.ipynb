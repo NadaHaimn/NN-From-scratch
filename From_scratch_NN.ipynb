{
  "nbformat": 4,
  "nbformat_minor": 0,
  "metadata": {
    "colab": {
      "provenance": []
    },
    "kernelspec": {
      "name": "python3",
      "display_name": "Python 3"
    },
    "language_info": {
      "name": "python"
    }
  },
  "cells": [
    {
      "cell_type": "code",
      "execution_count": 38,
      "metadata": {
        "id": "NXUBA-hiuMiR"
      },
      "outputs": [],
      "source": [
        "import numpy as np\n",
        "import pandas as pd\n",
        "import matplotlib.pyplot as plt\n",
        "import seaborn as sns\n",
        "import warnings\n",
        "warnings.filterwarnings('ignore')"
      ]
    },
    {
      "cell_type": "code",
      "source": [
        "df = pd.read_csv('train.csv')\n",
        "df.head()"
      ],
      "metadata": {
        "colab": {
          "base_uri": "https://localhost:8080/",
          "height": 255
        },
        "id": "UwC8nhVZugcY",
        "outputId": "63bd0c48-702e-4793-d7da-8b81c21af52b"
      },
      "execution_count": 39,
      "outputs": [
        {
          "output_type": "execute_result",
          "data": {
            "text/plain": [
              "   label  pixel0  pixel1  pixel2  pixel3  pixel4  pixel5  pixel6  pixel7  \\\n",
              "0      1       0       0       0       0       0       0       0       0   \n",
              "1      0       0       0       0       0       0       0       0       0   \n",
              "2      1       0       0       0       0       0       0       0       0   \n",
              "3      4       0       0       0       0       0       0       0       0   \n",
              "4      0       0       0       0       0       0       0       0       0   \n",
              "\n",
              "   pixel8  ...  pixel774  pixel775  pixel776  pixel777  pixel778  pixel779  \\\n",
              "0       0  ...         0         0         0         0         0         0   \n",
              "1       0  ...         0         0         0         0         0         0   \n",
              "2       0  ...         0         0         0         0         0         0   \n",
              "3       0  ...         0         0         0         0         0         0   \n",
              "4       0  ...         0         0         0         0         0         0   \n",
              "\n",
              "   pixel780  pixel781  pixel782  pixel783  \n",
              "0         0         0         0         0  \n",
              "1         0         0         0         0  \n",
              "2         0         0         0         0  \n",
              "3         0         0         0         0  \n",
              "4         0         0         0         0  \n",
              "\n",
              "[5 rows x 785 columns]"
            ],
            "text/html": [
              "\n",
              "  <div id=\"df-4056433c-5e42-4b33-af11-e0a12be58d78\" class=\"colab-df-container\">\n",
              "    <div>\n",
              "<style scoped>\n",
              "    .dataframe tbody tr th:only-of-type {\n",
              "        vertical-align: middle;\n",
              "    }\n",
              "\n",
              "    .dataframe tbody tr th {\n",
              "        vertical-align: top;\n",
              "    }\n",
              "\n",
              "    .dataframe thead th {\n",
              "        text-align: right;\n",
              "    }\n",
              "</style>\n",
              "<table border=\"1\" class=\"dataframe\">\n",
              "  <thead>\n",
              "    <tr style=\"text-align: right;\">\n",
              "      <th></th>\n",
              "      <th>label</th>\n",
              "      <th>pixel0</th>\n",
              "      <th>pixel1</th>\n",
              "      <th>pixel2</th>\n",
              "      <th>pixel3</th>\n",
              "      <th>pixel4</th>\n",
              "      <th>pixel5</th>\n",
              "      <th>pixel6</th>\n",
              "      <th>pixel7</th>\n",
              "      <th>pixel8</th>\n",
              "      <th>...</th>\n",
              "      <th>pixel774</th>\n",
              "      <th>pixel775</th>\n",
              "      <th>pixel776</th>\n",
              "      <th>pixel777</th>\n",
              "      <th>pixel778</th>\n",
              "      <th>pixel779</th>\n",
              "      <th>pixel780</th>\n",
              "      <th>pixel781</th>\n",
              "      <th>pixel782</th>\n",
              "      <th>pixel783</th>\n",
              "    </tr>\n",
              "  </thead>\n",
              "  <tbody>\n",
              "    <tr>\n",
              "      <th>0</th>\n",
              "      <td>1</td>\n",
              "      <td>0</td>\n",
              "      <td>0</td>\n",
              "      <td>0</td>\n",
              "      <td>0</td>\n",
              "      <td>0</td>\n",
              "      <td>0</td>\n",
              "      <td>0</td>\n",
              "      <td>0</td>\n",
              "      <td>0</td>\n",
              "      <td>...</td>\n",
              "      <td>0</td>\n",
              "      <td>0</td>\n",
              "      <td>0</td>\n",
              "      <td>0</td>\n",
              "      <td>0</td>\n",
              "      <td>0</td>\n",
              "      <td>0</td>\n",
              "      <td>0</td>\n",
              "      <td>0</td>\n",
              "      <td>0</td>\n",
              "    </tr>\n",
              "    <tr>\n",
              "      <th>1</th>\n",
              "      <td>0</td>\n",
              "      <td>0</td>\n",
              "      <td>0</td>\n",
              "      <td>0</td>\n",
              "      <td>0</td>\n",
              "      <td>0</td>\n",
              "      <td>0</td>\n",
              "      <td>0</td>\n",
              "      <td>0</td>\n",
              "      <td>0</td>\n",
              "      <td>...</td>\n",
              "      <td>0</td>\n",
              "      <td>0</td>\n",
              "      <td>0</td>\n",
              "      <td>0</td>\n",
              "      <td>0</td>\n",
              "      <td>0</td>\n",
              "      <td>0</td>\n",
              "      <td>0</td>\n",
              "      <td>0</td>\n",
              "      <td>0</td>\n",
              "    </tr>\n",
              "    <tr>\n",
              "      <th>2</th>\n",
              "      <td>1</td>\n",
              "      <td>0</td>\n",
              "      <td>0</td>\n",
              "      <td>0</td>\n",
              "      <td>0</td>\n",
              "      <td>0</td>\n",
              "      <td>0</td>\n",
              "      <td>0</td>\n",
              "      <td>0</td>\n",
              "      <td>0</td>\n",
              "      <td>...</td>\n",
              "      <td>0</td>\n",
              "      <td>0</td>\n",
              "      <td>0</td>\n",
              "      <td>0</td>\n",
              "      <td>0</td>\n",
              "      <td>0</td>\n",
              "      <td>0</td>\n",
              "      <td>0</td>\n",
              "      <td>0</td>\n",
              "      <td>0</td>\n",
              "    </tr>\n",
              "    <tr>\n",
              "      <th>3</th>\n",
              "      <td>4</td>\n",
              "      <td>0</td>\n",
              "      <td>0</td>\n",
              "      <td>0</td>\n",
              "      <td>0</td>\n",
              "      <td>0</td>\n",
              "      <td>0</td>\n",
              "      <td>0</td>\n",
              "      <td>0</td>\n",
              "      <td>0</td>\n",
              "      <td>...</td>\n",
              "      <td>0</td>\n",
              "      <td>0</td>\n",
              "      <td>0</td>\n",
              "      <td>0</td>\n",
              "      <td>0</td>\n",
              "      <td>0</td>\n",
              "      <td>0</td>\n",
              "      <td>0</td>\n",
              "      <td>0</td>\n",
              "      <td>0</td>\n",
              "    </tr>\n",
              "    <tr>\n",
              "      <th>4</th>\n",
              "      <td>0</td>\n",
              "      <td>0</td>\n",
              "      <td>0</td>\n",
              "      <td>0</td>\n",
              "      <td>0</td>\n",
              "      <td>0</td>\n",
              "      <td>0</td>\n",
              "      <td>0</td>\n",
              "      <td>0</td>\n",
              "      <td>0</td>\n",
              "      <td>...</td>\n",
              "      <td>0</td>\n",
              "      <td>0</td>\n",
              "      <td>0</td>\n",
              "      <td>0</td>\n",
              "      <td>0</td>\n",
              "      <td>0</td>\n",
              "      <td>0</td>\n",
              "      <td>0</td>\n",
              "      <td>0</td>\n",
              "      <td>0</td>\n",
              "    </tr>\n",
              "  </tbody>\n",
              "</table>\n",
              "<p>5 rows × 785 columns</p>\n",
              "</div>\n",
              "    <div class=\"colab-df-buttons\">\n",
              "\n",
              "  <div class=\"colab-df-container\">\n",
              "    <button class=\"colab-df-convert\" onclick=\"convertToInteractive('df-4056433c-5e42-4b33-af11-e0a12be58d78')\"\n",
              "            title=\"Convert this dataframe to an interactive table.\"\n",
              "            style=\"display:none;\">\n",
              "\n",
              "  <svg xmlns=\"http://www.w3.org/2000/svg\" height=\"24px\" viewBox=\"0 -960 960 960\">\n",
              "    <path d=\"M120-120v-720h720v720H120Zm60-500h600v-160H180v160Zm220 220h160v-160H400v160Zm0 220h160v-160H400v160ZM180-400h160v-160H180v160Zm440 0h160v-160H620v160ZM180-180h160v-160H180v160Zm440 0h160v-160H620v160Z\"/>\n",
              "  </svg>\n",
              "    </button>\n",
              "\n",
              "  <style>\n",
              "    .colab-df-container {\n",
              "      display:flex;\n",
              "      gap: 12px;\n",
              "    }\n",
              "\n",
              "    .colab-df-convert {\n",
              "      background-color: #E8F0FE;\n",
              "      border: none;\n",
              "      border-radius: 50%;\n",
              "      cursor: pointer;\n",
              "      display: none;\n",
              "      fill: #1967D2;\n",
              "      height: 32px;\n",
              "      padding: 0 0 0 0;\n",
              "      width: 32px;\n",
              "    }\n",
              "\n",
              "    .colab-df-convert:hover {\n",
              "      background-color: #E2EBFA;\n",
              "      box-shadow: 0px 1px 2px rgba(60, 64, 67, 0.3), 0px 1px 3px 1px rgba(60, 64, 67, 0.15);\n",
              "      fill: #174EA6;\n",
              "    }\n",
              "\n",
              "    .colab-df-buttons div {\n",
              "      margin-bottom: 4px;\n",
              "    }\n",
              "\n",
              "    [theme=dark] .colab-df-convert {\n",
              "      background-color: #3B4455;\n",
              "      fill: #D2E3FC;\n",
              "    }\n",
              "\n",
              "    [theme=dark] .colab-df-convert:hover {\n",
              "      background-color: #434B5C;\n",
              "      box-shadow: 0px 1px 3px 1px rgba(0, 0, 0, 0.15);\n",
              "      filter: drop-shadow(0px 1px 2px rgba(0, 0, 0, 0.3));\n",
              "      fill: #FFFFFF;\n",
              "    }\n",
              "  </style>\n",
              "\n",
              "    <script>\n",
              "      const buttonEl =\n",
              "        document.querySelector('#df-4056433c-5e42-4b33-af11-e0a12be58d78 button.colab-df-convert');\n",
              "      buttonEl.style.display =\n",
              "        google.colab.kernel.accessAllowed ? 'block' : 'none';\n",
              "\n",
              "      async function convertToInteractive(key) {\n",
              "        const element = document.querySelector('#df-4056433c-5e42-4b33-af11-e0a12be58d78');\n",
              "        const dataTable =\n",
              "          await google.colab.kernel.invokeFunction('convertToInteractive',\n",
              "                                                    [key], {});\n",
              "        if (!dataTable) return;\n",
              "\n",
              "        const docLinkHtml = 'Like what you see? Visit the ' +\n",
              "          '<a target=\"_blank\" href=https://colab.research.google.com/notebooks/data_table.ipynb>data table notebook</a>'\n",
              "          + ' to learn more about interactive tables.';\n",
              "        element.innerHTML = '';\n",
              "        dataTable['output_type'] = 'display_data';\n",
              "        await google.colab.output.renderOutput(dataTable, element);\n",
              "        const docLink = document.createElement('div');\n",
              "        docLink.innerHTML = docLinkHtml;\n",
              "        element.appendChild(docLink);\n",
              "      }\n",
              "    </script>\n",
              "  </div>\n",
              "\n",
              "\n",
              "<div id=\"df-71f3f33c-1550-4ab9-a6d0-4bcee09c9c00\">\n",
              "  <button class=\"colab-df-quickchart\" onclick=\"quickchart('df-71f3f33c-1550-4ab9-a6d0-4bcee09c9c00')\"\n",
              "            title=\"Suggest charts\"\n",
              "            style=\"display:none;\">\n",
              "\n",
              "<svg xmlns=\"http://www.w3.org/2000/svg\" height=\"24px\"viewBox=\"0 0 24 24\"\n",
              "     width=\"24px\">\n",
              "    <g>\n",
              "        <path d=\"M19 3H5c-1.1 0-2 .9-2 2v14c0 1.1.9 2 2 2h14c1.1 0 2-.9 2-2V5c0-1.1-.9-2-2-2zM9 17H7v-7h2v7zm4 0h-2V7h2v10zm4 0h-2v-4h2v4z\"/>\n",
              "    </g>\n",
              "</svg>\n",
              "  </button>\n",
              "\n",
              "<style>\n",
              "  .colab-df-quickchart {\n",
              "      --bg-color: #E8F0FE;\n",
              "      --fill-color: #1967D2;\n",
              "      --hover-bg-color: #E2EBFA;\n",
              "      --hover-fill-color: #174EA6;\n",
              "      --disabled-fill-color: #AAA;\n",
              "      --disabled-bg-color: #DDD;\n",
              "  }\n",
              "\n",
              "  [theme=dark] .colab-df-quickchart {\n",
              "      --bg-color: #3B4455;\n",
              "      --fill-color: #D2E3FC;\n",
              "      --hover-bg-color: #434B5C;\n",
              "      --hover-fill-color: #FFFFFF;\n",
              "      --disabled-bg-color: #3B4455;\n",
              "      --disabled-fill-color: #666;\n",
              "  }\n",
              "\n",
              "  .colab-df-quickchart {\n",
              "    background-color: var(--bg-color);\n",
              "    border: none;\n",
              "    border-radius: 50%;\n",
              "    cursor: pointer;\n",
              "    display: none;\n",
              "    fill: var(--fill-color);\n",
              "    height: 32px;\n",
              "    padding: 0;\n",
              "    width: 32px;\n",
              "  }\n",
              "\n",
              "  .colab-df-quickchart:hover {\n",
              "    background-color: var(--hover-bg-color);\n",
              "    box-shadow: 0 1px 2px rgba(60, 64, 67, 0.3), 0 1px 3px 1px rgba(60, 64, 67, 0.15);\n",
              "    fill: var(--button-hover-fill-color);\n",
              "  }\n",
              "\n",
              "  .colab-df-quickchart-complete:disabled,\n",
              "  .colab-df-quickchart-complete:disabled:hover {\n",
              "    background-color: var(--disabled-bg-color);\n",
              "    fill: var(--disabled-fill-color);\n",
              "    box-shadow: none;\n",
              "  }\n",
              "\n",
              "  .colab-df-spinner {\n",
              "    border: 2px solid var(--fill-color);\n",
              "    border-color: transparent;\n",
              "    border-bottom-color: var(--fill-color);\n",
              "    animation:\n",
              "      spin 1s steps(1) infinite;\n",
              "  }\n",
              "\n",
              "  @keyframes spin {\n",
              "    0% {\n",
              "      border-color: transparent;\n",
              "      border-bottom-color: var(--fill-color);\n",
              "      border-left-color: var(--fill-color);\n",
              "    }\n",
              "    20% {\n",
              "      border-color: transparent;\n",
              "      border-left-color: var(--fill-color);\n",
              "      border-top-color: var(--fill-color);\n",
              "    }\n",
              "    30% {\n",
              "      border-color: transparent;\n",
              "      border-left-color: var(--fill-color);\n",
              "      border-top-color: var(--fill-color);\n",
              "      border-right-color: var(--fill-color);\n",
              "    }\n",
              "    40% {\n",
              "      border-color: transparent;\n",
              "      border-right-color: var(--fill-color);\n",
              "      border-top-color: var(--fill-color);\n",
              "    }\n",
              "    60% {\n",
              "      border-color: transparent;\n",
              "      border-right-color: var(--fill-color);\n",
              "    }\n",
              "    80% {\n",
              "      border-color: transparent;\n",
              "      border-right-color: var(--fill-color);\n",
              "      border-bottom-color: var(--fill-color);\n",
              "    }\n",
              "    90% {\n",
              "      border-color: transparent;\n",
              "      border-bottom-color: var(--fill-color);\n",
              "    }\n",
              "  }\n",
              "</style>\n",
              "\n",
              "  <script>\n",
              "    async function quickchart(key) {\n",
              "      const quickchartButtonEl =\n",
              "        document.querySelector('#' + key + ' button');\n",
              "      quickchartButtonEl.disabled = true;  // To prevent multiple clicks.\n",
              "      quickchartButtonEl.classList.add('colab-df-spinner');\n",
              "      try {\n",
              "        const charts = await google.colab.kernel.invokeFunction(\n",
              "            'suggestCharts', [key], {});\n",
              "      } catch (error) {\n",
              "        console.error('Error during call to suggestCharts:', error);\n",
              "      }\n",
              "      quickchartButtonEl.classList.remove('colab-df-spinner');\n",
              "      quickchartButtonEl.classList.add('colab-df-quickchart-complete');\n",
              "    }\n",
              "    (() => {\n",
              "      let quickchartButtonEl =\n",
              "        document.querySelector('#df-71f3f33c-1550-4ab9-a6d0-4bcee09c9c00 button');\n",
              "      quickchartButtonEl.style.display =\n",
              "        google.colab.kernel.accessAllowed ? 'block' : 'none';\n",
              "    })();\n",
              "  </script>\n",
              "</div>\n",
              "\n",
              "    </div>\n",
              "  </div>\n"
            ],
            "application/vnd.google.colaboratory.intrinsic+json": {
              "type": "dataframe",
              "variable_name": "df"
            }
          },
          "metadata": {},
          "execution_count": 39
        }
      ]
    },
    {
      "cell_type": "code",
      "source": [
        "data = np.array(df)\n",
        "m , n =  data.shape\n",
        "np.random.shuffle(data)\n",
        "\n",
        "data_dev = data[0:1000].T\n",
        "y_dev = data_dev[0]\n",
        "x_dev = data_dev[1:n]\n",
        "x_dev = x_dev / 255.\n",
        "\n",
        "data_train = data[1000:m].T\n",
        "y_train = data_train[0]\n",
        "x_train = data_train[1:n]\n",
        "x_train = x_train / 255.\n",
        "_,m_train = x_train.shape"
      ],
      "metadata": {
        "id": "cq5cwZUqv47L"
      },
      "execution_count": 40,
      "outputs": []
    },
    {
      "cell_type": "code",
      "source": [
        "x_train[: , 0].shape"
      ],
      "metadata": {
        "colab": {
          "base_uri": "https://localhost:8080/"
        },
        "id": "DQRa6pNjv6fP",
        "outputId": "bf4fea72-9ea4-4df0-a4b5-926c7bc5d334"
      },
      "execution_count": 41,
      "outputs": [
        {
          "output_type": "execute_result",
          "data": {
            "text/plain": [
              "(784,)"
            ]
          },
          "metadata": {},
          "execution_count": 41
        }
      ]
    },
    {
      "cell_type": "markdown",
      "source": [
        "\n",
        "\n",
        "---\n",
        "\n"
      ],
      "metadata": {
        "id": "bxmZQy3WCs-E"
      }
    },
    {
      "cell_type": "code",
      "source": [
        "def init_params():\n",
        "  w1 = np.random.rand(10, 784) - 0.5\n",
        "  b1 = np.random.rand(10, 1) - 0.5\n",
        "  w2 = np.random.rand(10, 10) - 0.5\n",
        "  b2 = np.random.rand(10, 1) - 0.5\n",
        "  return w1 , b1 , w2 , b2"
      ],
      "metadata": {
        "id": "BfbgMOzUxSRy"
      },
      "execution_count": 42,
      "outputs": []
    },
    {
      "cell_type": "code",
      "source": [
        "def ReLU(z):\n",
        "  return np.maximum(z,0)"
      ],
      "metadata": {
        "id": "dbobn2fj-aqA"
      },
      "execution_count": 43,
      "outputs": []
    },
    {
      "cell_type": "code",
      "source": [
        "def softmax(z):\n",
        "  a= np.exp(z) / sum(np.exp(z))\n",
        "  return a"
      ],
      "metadata": {
        "id": "rzPaSdi2_Eid"
      },
      "execution_count": 44,
      "outputs": []
    },
    {
      "cell_type": "code",
      "source": [
        "def forward_prop(w1 , b1 , w2 , b2 , x):\n",
        "  z1 = w1.dot(x) + b1\n",
        "  a1 = ReLU(z1)\n",
        "  z2 = w2.dot(a1) + b2\n",
        "  a2 = softmax(z2)\n",
        "  return z1 , a1 , z2 , a2"
      ],
      "metadata": {
        "id": "X_h_OVkU-Lcp"
      },
      "execution_count": 45,
      "outputs": []
    },
    {
      "cell_type": "code",
      "source": [
        "def one_hot(y):\n",
        "  one_hot_y = np.zeros((y.size, y.max() + 1))\n",
        "  one_hot_y[np.arange(y.size), y] = 1\n",
        "  one_hot_y = one_hot_y.T\n",
        "  return one_hot_y"
      ],
      "metadata": {
        "id": "Ow-9kID7_n3R"
      },
      "execution_count": 46,
      "outputs": []
    },
    {
      "cell_type": "code",
      "source": [
        "def deriv_ReLU(z):\n",
        "  return z > 0"
      ],
      "metadata": {
        "id": "sn1OpvHpBq6-"
      },
      "execution_count": 47,
      "outputs": []
    },
    {
      "cell_type": "code",
      "source": [
        "def back_prop(z1 , a1 , z2 , a2 , w1 , w2 , x , y):\n",
        "  m = y.size\n",
        "  one_hot_y = one_hot(y)\n",
        "  dz2 = a2 - one_hot_y\n",
        "  dw2 = 1/m * dz2.dot(a1.T)\n",
        "  db2 = 1/m * np.sum(dz2)\n",
        "  dz1 = w2.T.dot(dz2) * deriv_ReLU(z1)\n",
        "  dw1 = 1/m * dz1.dot(x.T)\n",
        "  db1 = 1/m * np.sum(dz1)\n",
        "  return dw1 , db1 , dw2 , db2"
      ],
      "metadata": {
        "id": "bj5IEZYm_h6o"
      },
      "execution_count": 48,
      "outputs": []
    },
    {
      "cell_type": "code",
      "source": [
        "def update_params(w1 , b1 , w2 , b2 , dw1 , db1 , dw2 , db2 , alpha):\n",
        "  w1 = w1 - alpha * dw1\n",
        "  b1 = b1 - alpha * db1\n",
        "  w2 = w2 - alpha * dw2\n",
        "  b2 = b2 - alpha * db2\n",
        "  return w1 , b1 , w2 , b2"
      ],
      "metadata": {
        "id": "-io5UAPtB_-n"
      },
      "execution_count": 49,
      "outputs": []
    },
    {
      "cell_type": "markdown",
      "source": [
        "\n",
        "\n",
        "---\n",
        "\n"
      ],
      "metadata": {
        "id": "hpYwspsICp0T"
      }
    },
    {
      "cell_type": "code",
      "source": [
        "def get_predictions(a2):\n",
        "  return np.argmax(a2 , 0)"
      ],
      "metadata": {
        "id": "ptM2KlCuC8lJ"
      },
      "execution_count": 50,
      "outputs": []
    },
    {
      "cell_type": "code",
      "source": [
        "def get_accuracy(predictions , y):\n",
        "  print(predictions , y)\n",
        "  return np.sum(predictions == y) / y.size"
      ],
      "metadata": {
        "id": "lbmJ8vlKC-CE"
      },
      "execution_count": 51,
      "outputs": []
    },
    {
      "cell_type": "code",
      "source": [
        "def grad_descent(x , y , alpha , iterations):\n",
        "  w1 , b1 , w2 , b2 = init_params()\n",
        "  for i in range(iterations):\n",
        "    z1 , a1 , z2 , a2 = forward_prop(w1 , b1 , w2 , b2 , x)\n",
        "    dw1 , db1 , dw2 , db2 = back_prop(z1 , a1 , z2 , a2 , w1 , w2 , x , y)\n",
        "    w1 , b1 , w2 , b2 = update_params(w1 , b1 , w2 , b2 , dw1 , db1 , dw2 , db2 , alpha)\n",
        "    if i % 10 == 0:\n",
        "      print(\"Iteration : \" , i)\n",
        "      predictions = get_predictions(a2)\n",
        "      print(\"Accuracy: \" , get_accuracy(predictions , y))\n",
        "  return w1 , b1 , w2 , b2"
      ],
      "metadata": {
        "id": "VtWIbxn9CN9E"
      },
      "execution_count": 52,
      "outputs": []
    },
    {
      "cell_type": "markdown",
      "source": [
        "\n",
        "\n",
        "---\n",
        "\n"
      ],
      "metadata": {
        "id": "XFK14YrkFkwe"
      }
    },
    {
      "cell_type": "code",
      "source": [
        "W1, b1, W2, b2 = grad_descent(x_train, y_train, .10, 500)"
      ],
      "metadata": {
        "colab": {
          "base_uri": "https://localhost:8080/"
        },
        "id": "ubhxBTeNDtJv",
        "outputId": "adafe746-5fc4-4234-92bf-a82053a2da01"
      },
      "execution_count": 53,
      "outputs": [
        {
          "output_type": "stream",
          "name": "stdout",
          "text": [
            "Iteration :  0\n",
            "[8 8 0 ... 0 5 5] [8 3 2 ... 0 1 9]\n",
            "Accuracy:  0.1954878048780488\n",
            "Iteration :  10\n",
            "[2 8 6 ... 0 5 5] [8 3 2 ... 0 1 9]\n",
            "Accuracy:  0.2807317073170732\n",
            "Iteration :  20\n",
            "[2 3 6 ... 0 5 5] [8 3 2 ... 0 1 9]\n",
            "Accuracy:  0.38765853658536586\n",
            "Iteration :  30\n",
            "[2 3 6 ... 0 1 5] [8 3 2 ... 0 1 9]\n",
            "Accuracy:  0.4669756097560976\n",
            "Iteration :  40\n",
            "[2 3 6 ... 0 1 5] [8 3 2 ... 0 1 9]\n",
            "Accuracy:  0.5219512195121951\n",
            "Iteration :  50\n",
            "[2 3 6 ... 0 1 5] [8 3 2 ... 0 1 9]\n",
            "Accuracy:  0.5658536585365853\n",
            "Iteration :  60\n",
            "[8 3 6 ... 0 1 5] [8 3 2 ... 0 1 9]\n",
            "Accuracy:  0.6025853658536585\n",
            "Iteration :  70\n",
            "[8 3 6 ... 0 1 5] [8 3 2 ... 0 1 9]\n",
            "Accuracy:  0.6320731707317073\n",
            "Iteration :  80\n",
            "[8 3 6 ... 0 1 5] [8 3 2 ... 0 1 9]\n",
            "Accuracy:  0.6563170731707317\n",
            "Iteration :  90\n",
            "[8 3 6 ... 0 1 5] [8 3 2 ... 0 1 9]\n",
            "Accuracy:  0.675829268292683\n",
            "Iteration :  100\n",
            "[8 3 6 ... 0 1 8] [8 3 2 ... 0 1 9]\n",
            "Accuracy:  0.6920731707317073\n",
            "Iteration :  110\n",
            "[8 3 6 ... 0 1 8] [8 3 2 ... 0 1 9]\n",
            "Accuracy:  0.7066097560975609\n",
            "Iteration :  120\n",
            "[8 3 6 ... 0 1 8] [8 3 2 ... 0 1 9]\n",
            "Accuracy:  0.7200731707317073\n",
            "Iteration :  130\n",
            "[8 3 6 ... 0 1 8] [8 3 2 ... 0 1 9]\n",
            "Accuracy:  0.7319024390243902\n",
            "Iteration :  140\n",
            "[8 3 6 ... 0 1 8] [8 3 2 ... 0 1 9]\n",
            "Accuracy:  0.7425365853658537\n",
            "Iteration :  150\n",
            "[8 3 6 ... 0 1 8] [8 3 2 ... 0 1 9]\n",
            "Accuracy:  0.7522439024390244\n",
            "Iteration :  160\n",
            "[8 3 6 ... 0 1 8] [8 3 2 ... 0 1 9]\n",
            "Accuracy:  0.7595121951219512\n",
            "Iteration :  170\n",
            "[8 3 6 ... 0 1 8] [8 3 2 ... 0 1 9]\n",
            "Accuracy:  0.7668780487804878\n",
            "Iteration :  180\n",
            "[8 3 6 ... 0 1 8] [8 3 2 ... 0 1 9]\n",
            "Accuracy:  0.7720243902439025\n",
            "Iteration :  190\n",
            "[8 3 6 ... 0 1 8] [8 3 2 ... 0 1 9]\n",
            "Accuracy:  0.7782926829268293\n",
            "Iteration :  200\n",
            "[8 3 6 ... 0 1 8] [8 3 2 ... 0 1 9]\n",
            "Accuracy:  0.7842439024390244\n",
            "Iteration :  210\n",
            "[8 3 6 ... 0 1 8] [8 3 2 ... 0 1 9]\n",
            "Accuracy:  0.7900243902439025\n",
            "Iteration :  220\n",
            "[8 3 6 ... 0 1 8] [8 3 2 ... 0 1 9]\n",
            "Accuracy:  0.7948780487804878\n",
            "Iteration :  230\n",
            "[8 3 6 ... 0 1 8] [8 3 2 ... 0 1 9]\n",
            "Accuracy:  0.7987560975609757\n",
            "Iteration :  240\n",
            "[8 3 6 ... 0 1 8] [8 3 2 ... 0 1 9]\n",
            "Accuracy:  0.8021951219512196\n",
            "Iteration :  250\n",
            "[8 3 6 ... 0 1 8] [8 3 2 ... 0 1 9]\n",
            "Accuracy:  0.8058048780487805\n",
            "Iteration :  260\n",
            "[8 3 6 ... 0 1 8] [8 3 2 ... 0 1 9]\n",
            "Accuracy:  0.8094634146341464\n",
            "Iteration :  270\n",
            "[8 3 6 ... 0 1 8] [8 3 2 ... 0 1 9]\n",
            "Accuracy:  0.8126341463414634\n",
            "Iteration :  280\n",
            "[8 3 6 ... 0 1 8] [8 3 2 ... 0 1 9]\n",
            "Accuracy:  0.8160243902439024\n",
            "Iteration :  290\n",
            "[8 3 6 ... 0 1 8] [8 3 2 ... 0 1 9]\n",
            "Accuracy:  0.8193170731707317\n",
            "Iteration :  300\n",
            "[8 3 6 ... 0 1 8] [8 3 2 ... 0 1 9]\n",
            "Accuracy:  0.8225853658536585\n",
            "Iteration :  310\n",
            "[8 3 6 ... 0 1 8] [8 3 2 ... 0 1 9]\n",
            "Accuracy:  0.8252926829268292\n",
            "Iteration :  320\n",
            "[8 3 6 ... 0 1 8] [8 3 2 ... 0 1 9]\n",
            "Accuracy:  0.8282926829268292\n",
            "Iteration :  330\n",
            "[8 3 6 ... 0 1 8] [8 3 2 ... 0 1 9]\n",
            "Accuracy:  0.8302682926829268\n",
            "Iteration :  340\n",
            "[8 3 6 ... 0 1 8] [8 3 2 ... 0 1 9]\n",
            "Accuracy:  0.8324878048780487\n",
            "Iteration :  350\n",
            "[8 3 6 ... 0 1 8] [8 3 2 ... 0 1 9]\n",
            "Accuracy:  0.8350731707317073\n",
            "Iteration :  360\n",
            "[8 3 6 ... 0 1 8] [8 3 2 ... 0 1 9]\n",
            "Accuracy:  0.8373414634146341\n",
            "Iteration :  370\n",
            "[8 3 6 ... 0 1 8] [8 3 2 ... 0 1 9]\n",
            "Accuracy:  0.8392682926829268\n",
            "Iteration :  380\n",
            "[8 3 6 ... 0 1 8] [8 3 2 ... 0 1 9]\n",
            "Accuracy:  0.8410975609756097\n",
            "Iteration :  390\n",
            "[8 3 6 ... 0 1 8] [8 3 2 ... 0 1 9]\n",
            "Accuracy:  0.8426341463414634\n",
            "Iteration :  400\n",
            "[8 3 6 ... 0 1 8] [8 3 2 ... 0 1 9]\n",
            "Accuracy:  0.8442195121951219\n",
            "Iteration :  410\n",
            "[8 3 6 ... 0 1 8] [8 3 2 ... 0 1 9]\n",
            "Accuracy:  0.8457560975609756\n",
            "Iteration :  420\n",
            "[8 3 6 ... 0 1 8] [8 3 2 ... 0 1 9]\n",
            "Accuracy:  0.8467317073170731\n",
            "Iteration :  430\n",
            "[8 3 6 ... 0 1 8] [8 3 2 ... 0 1 9]\n",
            "Accuracy:  0.8480487804878049\n",
            "Iteration :  440\n",
            "[8 3 6 ... 0 1 8] [8 3 2 ... 0 1 9]\n",
            "Accuracy:  0.8496585365853658\n",
            "Iteration :  450\n",
            "[8 3 6 ... 0 1 8] [8 3 2 ... 0 1 9]\n",
            "Accuracy:  0.8509024390243902\n",
            "Iteration :  460\n",
            "[8 3 6 ... 0 1 8] [8 3 2 ... 0 1 9]\n",
            "Accuracy:  0.8524390243902439\n",
            "Iteration :  470\n",
            "[8 3 6 ... 0 1 8] [8 3 2 ... 0 1 9]\n",
            "Accuracy:  0.8536341463414634\n",
            "Iteration :  480\n",
            "[8 3 6 ... 0 1 8] [8 3 2 ... 0 1 9]\n",
            "Accuracy:  0.8547560975609756\n",
            "Iteration :  490\n",
            "[8 3 6 ... 0 1 8] [8 3 2 ... 0 1 9]\n",
            "Accuracy:  0.8558536585365853\n"
          ]
        }
      ]
    },
    {
      "cell_type": "markdown",
      "source": [
        "\n",
        "\n",
        "---\n",
        "\n"
      ],
      "metadata": {
        "id": "9TQabgGiJmL2"
      }
    },
    {
      "cell_type": "code",
      "source": [
        "def make_predictions(x, w1, b1, w2, b2):\n",
        "    _, _, _, a2 = forward_prop(w1, b1, W2, b2, x)\n",
        "    predictions = get_predictions(a2)\n",
        "    return predictions"
      ],
      "metadata": {
        "id": "xNyw74_aFrvJ"
      },
      "execution_count": 54,
      "outputs": []
    },
    {
      "cell_type": "code",
      "source": [
        "def test_prediction(index, w1, b1, w2, b2):\n",
        "    current_image = x_train[:, index, None]\n",
        "    prediction = make_predictions(x_train[:, index, None], w1, b1, w2, b2)\n",
        "    label = y_train[index]\n",
        "    print(\"Prediction: \", prediction)\n",
        "    print(\"Label: \", label)\n",
        "\n",
        "    current_image = current_image.reshape((28, 28)) * 255\n",
        "    plt.gray()\n",
        "    plt.imshow(current_image, interpolation='nearest')\n",
        "    plt.show()"
      ],
      "metadata": {
        "id": "BI6ipy57JhF6"
      },
      "execution_count": 58,
      "outputs": []
    },
    {
      "cell_type": "markdown",
      "source": [
        "\n",
        "\n",
        "---\n",
        "\n"
      ],
      "metadata": {
        "id": "b8qnpU9UJng8"
      }
    },
    {
      "cell_type": "code",
      "source": [
        "test_prediction(0, W1, b1, W2, b2)\n",
        "test_prediction(1, W1, b1, W2, b2)\n",
        "test_prediction(5, W1, b1, W2, b2)\n",
        "test_prediction(3, W1, b1, W2, b2)"
      ],
      "metadata": {
        "colab": {
          "base_uri": "https://localhost:8080/",
          "height": 1000
        },
        "id": "WajFokx_JlAU",
        "outputId": "81d167e6-3c45-4038-870a-b07ca16966f8"
      },
      "execution_count": 61,
      "outputs": [
        {
          "output_type": "stream",
          "name": "stdout",
          "text": [
            "Prediction:  [8]\n",
            "Label:  8\n"
          ]
        },
        {
          "output_type": "display_data",
          "data": {
            "text/plain": [
              "<Figure size 640x480 with 1 Axes>"
            ],
            "image/png": "[encoded data removed]"
          },
          "metadata": {}
        },
        {
          "output_type": "stream",
          "name": "stdout",
          "text": [
            "Prediction:  [3]\n",
            "Label:  3\n"
          ]
        },
        {
          "output_type": "display_data",
          "data": {
            "text/plain": [
              "<Figure size 640x480 with 1 Axes>"
            ],
            "image/png": "[encoded data removed]"
          },
          "metadata": {}
        },
        {
          "output_type": "stream",
          "name": "stdout",
          "text": [
            "Prediction:  [4]\n",
            "Label:  4\n"
          ]
        },
        {
          "output_type": "display_data",
          "data": {
            "text/plain": [
              "<Figure size 640x480 with 1 Axes>"
            ],
            "image/png": "[encoded data removed]"
          },
          "metadata": {}
        },
        {
          "output_type": "stream",
          "name": "stdout",
          "text": [
            "Prediction:  [1]\n",
            "Label:  2\n"
          ]
        },
        {
          "output_type": "display_data",
          "data": {
            "text/plain": [
              "<Figure size 640x480 with 1 Axes>"
            ],
            "image/png": "[encoded data removed]"
          },
          "metadata": {}
        }
      ]
    },
    {
      "cell_type": "code",
      "source": [
        "dev_predictions = make_predictions(x_dev, W1, b1, W2, b2)\n",
        "get_accuracy(dev_predictions, y_dev)"
      ],
      "metadata": {
        "colab": {
          "base_uri": "https://localhost:8080/"
        },
        "id": "fFul-fJ4JyDC",
        "outputId": "dfecf201-126d-4a1a-d797-a2a3223ab5b5"
      },
      "execution_count": 64,
      "outputs": [
        {
          "output_type": "stream",
          "name": "stdout",
          "text": [
            "[1 1 5 9 2 1 6 1 8 1 8 7 9 0 2 1 2 6 0 9 5 4 7 9 1 7 7 1 9 0 9 8 8 8 5 4 5\n",
            " 0 5 6 7 8 4 1 2 2 4 6 3 2 7 6 8 0 7 7 4 2 4 2 7 1 1 2 0 0 5 7 5 0 9 8 4 4\n",
            " 6 6 6 6 1 1 7 9 1 8 2 9 8 6 6 8 6 1 9 8 1 3 5 9 7 6 2 9 6 6 5 4 1 1 2 0 4\n",
            " 4 4 9 7 2 4 1 9 5 8 5 7 8 1 3 7 2 4 4 5 6 3 2 1 4 5 5 0 6 3 7 2 3 4 1 9 4\n",
            " 2 1 8 4 2 6 7 8 4 6 6 2 3 4 4 7 0 5 6 9 0 6 8 4 7 2 9 8 4 5 0 2 4 6 9 2 3\n",
            " 5 0 8 9 7 0 4 7 4 7 8 5 1 2 3 6 4 2 2 1 6 6 3 1 2 1 5 5 0 2 8 3 6 3 7 9 4\n",
            " 0 3 3 6 0 7 0 6 9 1 8 4 5 2 4 1 2 6 6 9 4 2 6 8 4 8 1 2 7 7 7 2 4 9 8 6 3\n",
            " 9 9 9 6 3 0 1 9 0 0 8 8 6 5 8 4 7 4 8 4 1 8 2 8 9 3 1 3 9 2 8 9 4 8 0 6 5\n",
            " 5 4 0 7 4 8 3 1 2 7 9 0 9 6 8 3 4 1 5 0 7 3 0 8 8 4 4 9 6 3 2 6 3 1 9 8 3\n",
            " 8 0 0 9 4 0 3 2 9 2 3 3 6 6 5 1 0 6 4 5 4 5 6 4 4 6 7 5 1 1 9 0 1 3 0 7 4\n",
            " 8 2 6 2 2 0 8 6 5 5 8 9 6 4 4 9 8 5 7 9 8 7 6 3 8 3 9 6 9 2 2 7 0 8 1 7 9\n",
            " 8 5 9 9 3 1 9 6 9 6 8 7 1 3 6 0 9 9 6 6 2 7 4 2 6 8 8 6 3 7 4 3 4 3 0 2 9\n",
            " 4 9 8 8 1 4 6 6 8 5 9 3 1 8 3 3 9 2 6 7 2 7 1 8 7 5 9 2 9 6 2 0 2 9 6 9 8\n",
            " 5 1 1 7 5 2 3 0 3 5 0 1 6 1 8 3 7 3 7 4 6 1 9 3 7 7 7 2 4 5 6 5 2 8 7 9 5\n",
            " 6 0 6 1 1 7 7 0 4 9 0 4 2 5 4 3 7 3 0 6 4 8 1 8 4 4 1 8 5 8 3 7 8 9 6 4 1\n",
            " 7 6 9 6 2 3 8 8 3 5 9 3 0 1 8 6 2 5 6 9 7 9 4 5 7 6 4 3 0 6 1 9 7 7 5 1 3\n",
            " 1 0 1 0 8 0 8 6 9 4 9 2 1 3 1 1 0 5 1 0 5 7 9 0 7 3 1 4 4 1 7 2 6 9 6 6 4\n",
            " 9 4 6 6 9 1 5 9 7 5 4 5 3 7 4 2 6 6 1 4 8 4 6 8 0 0 1 7 7 8 9 8 2 4 6 9 9\n",
            " 5 3 8 1 3 7 1 2 8 0 3 1 3 7 7 1 6 4 7 5 3 8 9 3 0 2 5 1 6 5 5 3 3 0 6 2 6\n",
            " 4 2 2 6 2 1 6 8 3 8 2 8 8 5 7 0 9 9 2 2 1 5 8 4 1 8 0 7 9 4 5 0 9 4 4 2 7\n",
            " 8 3 9 9 9 8 3 6 2 3 2 1 1 6 6 6 3 6 8 9 6 7 4 4 1 1 9 2 8 4 1 4 9 8 0 5 5\n",
            " 1 6 2 9 3 1 7 3 0 7 9 4 2 6 4 5 9 2 6 9 9 4 1 1 6 1 0 4 0 3 3 5 6 3 3 6 0\n",
            " 8 4 8 7 4 8 3 3 7 4 0 2 9 7 2 1 4 8 3 1 9 4 8 1 8 4 9 4 4 9 7 8 3 7 1 9 8\n",
            " 9 0 3 3 4 7 3 8 2 6 5 8 3 2 0 0 3 4 4 1 1 8 7 5 2 6 7 1 7 8 1 7 7 0 5 6 7\n",
            " 9 5 3 8 8 4 7 1 2 1 1 5 2 8 8 6 2 7 1 7 3 1 3 2 6 1 2 0 4 8 8 8 0 5 5 5 3\n",
            " 1 1 1 4 8 0 2 1 0 2 0 9 7 6 4 4 4 4 1 1 2 7 8 1 5 8 6 5 1 8 8 1 5 0 5 1 3\n",
            " 8 7 7 7 5 0 3 8 3 7 4 3 9 1 7 2 5 7 3 7 9 3 4 9 6 6 6 7 8 0 2 8 1 2 1 5 7\n",
            " 7] [1 1 6 9 2 1 6 1 8 1 8 7 9 0 2 1 3 6 0 4 5 4 7 8 1 7 7 1 9 0 9 8 8 8 5 4 5\n",
            " 0 5 6 7 5 9 1 2 3 6 6 3 2 7 6 8 0 7 7 9 2 4 4 7 1 1 2 0 0 1 7 3 0 9 8 4 4\n",
            " 6 4 6 6 1 1 7 8 1 3 2 9 3 6 6 8 6 1 9 8 1 3 5 9 7 6 2 9 6 6 5 4 1 1 2 0 4\n",
            " 4 5 9 7 2 4 8 9 6 8 5 7 8 1 8 7 2 4 4 0 4 3 2 1 4 5 5 0 6 8 9 2 5 9 1 9 4\n",
            " 8 5 8 4 2 6 7 9 4 6 6 2 3 4 4 7 0 5 6 9 0 6 8 4 7 2 9 8 4 5 0 2 4 6 9 2 3\n",
            " 5 0 3 4 7 0 4 7 4 7 8 5 5 2 8 6 4 3 2 1 6 6 3 1 2 1 8 5 0 2 8 3 6 3 5 9 4\n",
            " 0 3 3 6 4 7 0 6 9 1 8 4 6 2 4 1 2 6 6 5 4 2 6 8 4 8 1 2 7 7 7 2 4 7 5 3 0\n",
            " 9 9 9 6 3 0 1 9 0 0 8 8 6 3 9 4 7 4 8 9 8 8 2 8 9 5 1 3 9 2 5 9 4 8 0 6 5\n",
            " 5 4 0 7 4 8 3 1 2 7 9 0 4 6 5 3 4 1 5 0 3 3 0 8 8 4 4 9 6 3 2 6 5 1 9 8 8\n",
            " 5 0 0 9 4 0 3 2 9 2 3 3 6 6 3 1 0 6 4 5 4 5 8 5 9 6 7 5 1 1 7 0 1 3 0 7 4\n",
            " 8 2 6 2 2 0 8 6 5 5 8 9 6 9 4 4 8 5 7 9 8 7 6 3 8 3 4 6 4 2 2 7 0 8 1 7 9\n",
            " 8 5 9 9 3 1 9 6 9 6 8 7 1 5 6 0 9 4 6 6 2 7 4 2 6 8 9 6 3 7 8 3 9 3 0 2 9\n",
            " 4 9 8 8 1 7 6 0 8 5 9 3 1 8 3 0 4 2 6 7 2 7 1 8 7 5 9 2 9 6 2 4 2 9 6 4 8\n",
            " 5 1 1 7 5 8 3 0 3 5 0 1 8 1 8 7 7 3 7 4 6 1 9 3 7 7 7 2 4 5 7 5 2 3 7 9 5\n",
            " 6 0 6 1 1 7 7 0 4 9 0 4 2 5 4 3 7 3 0 6 6 8 1 8 4 2 1 8 5 8 3 7 2 9 6 4 1\n",
            " 7 6 9 3 2 3 8 8 9 5 9 3 6 1 5 6 2 8 6 9 7 9 4 5 7 6 4 3 5 6 1 0 7 7 5 1 3\n",
            " 1 0 1 0 8 0 6 6 7 9 7 6 1 8 1 1 0 5 1 0 8 7 9 0 7 3 1 8 4 1 7 2 6 9 6 6 4\n",
            " 9 4 6 6 9 1 5 9 9 5 9 3 9 7 9 6 6 6 3 4 8 2 6 8 0 0 1 7 7 8 9 8 2 4 6 2 7\n",
            " 3 3 8 1 3 7 1 2 8 0 0 1 3 7 7 1 6 4 7 5 3 8 4 3 0 2 5 1 6 5 5 3 3 0 6 3 6\n",
            " 4 2 2 6 2 1 6 8 9 2 2 8 8 5 7 7 9 9 2 6 1 5 3 4 1 8 0 7 9 9 5 0 7 4 4 9 7\n",
            " 5 3 9 7 9 8 3 6 3 5 2 1 8 6 6 6 3 6 8 9 6 9 4 4 1 1 9 2 8 4 1 4 8 8 2 5 5\n",
            " 8 6 2 4 3 1 7 3 0 7 5 4 2 6 4 5 9 2 6 5 9 4 1 1 6 1 0 4 0 3 3 5 6 3 5 4 0\n",
            " 8 4 8 7 4 5 3 9 7 4 0 2 7 7 2 4 4 8 3 1 7 4 8 1 8 4 9 4 4 4 7 8 3 7 1 9 0\n",
            " 4 0 3 3 4 7 3 8 2 6 5 3 3 1 0 0 3 4 6 1 5 8 7 5 2 6 7 1 7 8 1 7 7 0 1 5 7\n",
            " 9 5 2 8 8 9 7 1 2 1 1 5 2 2 8 0 2 7 1 7 3 1 3 2 6 1 4 0 4 8 8 5 0 5 5 5 3\n",
            " 1 1 1 4 8 0 2 1 0 2 0 9 7 6 4 4 4 4 1 1 2 7 5 1 5 8 6 5 1 8 8 1 5 0 5 1 8\n",
            " 8 7 7 7 5 0 3 8 3 7 4 3 9 1 7 8 5 7 1 9 9 3 4 9 6 6 6 7 8 0 6 8 7 2 1 5 7\n",
            " 7]\n"
          ]
        },
        {
          "output_type": "execute_result",
          "data": {
            "text/plain": [
              "0.839"
            ]
          },
          "metadata": {},
          "execution_count": 64
        }
      ]
    },
    {
      "cell_type": "code",
      "source": [],
      "metadata": {
        "id": "dGlgnAxXKPA5"
      },
      "execution_count": null,
      "outputs": []
    }
  ]
}